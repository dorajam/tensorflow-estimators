{
 "cells": [
  {
   "cell_type": "markdown",
   "metadata": {
    "colab_type": "text",
    "id": "ZSBI56o1ll-z"
   },
   "source": [
    "# Tensorflow 101: End-to-end machine learning using Estimators\n",
    "### Supporting workshop material\n",
    "By Dora Jambor and Peng Yu\n",
    "\n",
    "\n",
    "\n",
    "## Outline\n",
    "In this notebook, we are going to walk through the end-to-end machine learning process using Tensorflow's [Estimators](https://www.tensorflow.org/guide/estimators) API. Estimators simplify machine learning programming by encapsulating the following actions:\n",
    "training, evaluation, prediction, export for serving. \n",
    "This will allow us to focus our efforts on the actual prediction task, the data and the details of our model, rather than on the implementation details of the pipeline.\n",
    "\n",
    "Our prediction task today will be to classify clothing items into 10 categories. We will go through this process by the following steps:\n",
    "1. Prepare training and test datasets\n",
    "2. Choose classifier\n",
    "3. Encode features\n",
    "4. Train, Evaluate, Predict\n",
    "5. Export saved Model\n",
    "\n",
    "This walkthrough will not go into details on model deployment. For this, please refer to the [Tensorflow Serving](https://www.tensorflow.org/serving/) documentation."
   ]
  },
  {
   "cell_type": "markdown",
   "metadata": {
    "colab_type": "text",
    "id": "nnHu6LoIpZ-T"
   },
   "source": [
    "## Prepare training and test datasets\n",
    "We will work with the new generation of MNIST:  the [Fashion MNIST dataset](https://github.com/zalandoresearch/fashion-mnist). This dataset contains 60K training and 10K images of fashion articles that are categorized into 10 labels. These labels include T-Shirt/top, trouser, pullover, dress, coat, sandal, shirt, sneaker, bag, ankle boot, each mapped to a number from 0 to 9."
   ]
  },
  {
   "cell_type": "code",
   "execution_count": 2,
   "metadata": {
    "colab": {},
    "colab_type": "code",
    "id": "c0TEY8ciQPO3"
   },
   "outputs": [],
   "source": [
    "import tensorflow as tf\n",
    "from tensorflow.examples.tutorials.mnist import input_data"
   ]
  },
  {
   "cell_type": "code",
   "execution_count": 3,
   "metadata": {
    "colab": {
     "base_uri": "https://localhost:8080/",
     "height": 360
    },
    "colab_type": "code",
    "id": "ZteyeimQL4Xl",
    "outputId": "8b9f72a3-bbd4-4f3f-fade-b67e9d10925a"
   },
   "outputs": [
    {
     "name": "stdout",
     "output_type": "stream",
     "text": [
      "WARNING:tensorflow:From <ipython-input-3-c5d0270e57da>:2: read_data_sets (from tensorflow.contrib.learn.python.learn.datasets.mnist) is deprecated and will be removed in a future version.\n",
      "Instructions for updating:\n",
      "Please use alternatives such as official/mnist/dataset.py from tensorflow/models.\n",
      "WARNING:tensorflow:From /Users/Dora/Dora/learnings/learnings/lib/python2.7/site-packages/tensorflow/contrib/learn/python/learn/datasets/mnist.py:260: maybe_download (from tensorflow.contrib.learn.python.learn.datasets.base) is deprecated and will be removed in a future version.\n",
      "Instructions for updating:\n",
      "Please write your own downloading logic.\n",
      "WARNING:tensorflow:From /Users/Dora/Dora/learnings/learnings/lib/python2.7/site-packages/tensorflow/contrib/learn/python/learn/datasets/base.py:252: wrapped_fn (from tensorflow.contrib.learn.python.learn.datasets.base) is deprecated and will be removed in a future version.\n",
      "Instructions for updating:\n",
      "Please use urllib or similar directly.\n",
      "Successfully downloaded train-images-idx3-ubyte.gz 26421880 bytes.\n",
      "WARNING:tensorflow:From /Users/Dora/Dora/learnings/learnings/lib/python2.7/site-packages/tensorflow/contrib/learn/python/learn/datasets/mnist.py:262: extract_images (from tensorflow.contrib.learn.python.learn.datasets.mnist) is deprecated and will be removed in a future version.\n",
      "Instructions for updating:\n",
      "Please use tf.data to implement this functionality.\n",
      "Extracting data/fashion/train-images-idx3-ubyte.gz\n",
      "Successfully downloaded train-labels-idx1-ubyte.gz 29515 bytes.\n",
      "WARNING:tensorflow:From /Users/Dora/Dora/learnings/learnings/lib/python2.7/site-packages/tensorflow/contrib/learn/python/learn/datasets/mnist.py:267: extract_labels (from tensorflow.contrib.learn.python.learn.datasets.mnist) is deprecated and will be removed in a future version.\n",
      "Instructions for updating:\n",
      "Please use tf.data to implement this functionality.\n",
      "Extracting data/fashion/train-labels-idx1-ubyte.gz\n",
      "Successfully downloaded t10k-images-idx3-ubyte.gz 4422102 bytes.\n",
      "Extracting data/fashion/t10k-images-idx3-ubyte.gz\n",
      "Successfully downloaded t10k-labels-idx1-ubyte.gz 5148 bytes.\n",
      "Extracting data/fashion/t10k-labels-idx1-ubyte.gz\n",
      "WARNING:tensorflow:From /Users/Dora/Dora/learnings/learnings/lib/python2.7/site-packages/tensorflow/contrib/learn/python/learn/datasets/mnist.py:290: __init__ (from tensorflow.contrib.learn.python.learn.datasets.mnist) is deprecated and will be removed in a future version.\n",
      "Instructions for updating:\n",
      "Please use alternatives such as official/mnist/dataset.py from tensorflow/models.\n"
     ]
    }
   ],
   "source": [
    "dataset = input_data.read_data_sets('data/fashion', \n",
    "                                    source_url='http://fashion-mnist.s3-website.eu-central-1.amazonaws.com/')\n",
    "label_names = ['T-shirt/top', \n",
    "               'Trouser', \n",
    "               'Pullover', \n",
    "               'Dress', \n",
    "               'Coat', \n",
    "               'Sandal',\n",
    "               'Shirt',\n",
    "               'Sneaker',\n",
    "               'Bag',\n",
    "               'Ankle boot']"
   ]
  },
  {
   "cell_type": "code",
   "execution_count": 4,
   "metadata": {
    "colab": {
     "base_uri": "https://localhost:8080/",
     "height": 51
    },
    "colab_type": "code",
    "id": "ehGKl-acqC-c",
    "outputId": "702bf7b5-36ba-4a55-d736-ded687396138"
   },
   "outputs": [
    {
     "name": "stdout",
     "output_type": "stream",
     "text": [
      "Number of training examples:  55000\n",
      "Number of test examples:      10000\n"
     ]
    }
   ],
   "source": [
    "print 'Number of training examples: ', dataset.train.num_examples\n",
    "print 'Number of test examples:     ', dataset.test.num_examples"
   ]
  },
  {
   "cell_type": "markdown",
   "metadata": {
    "colab_type": "text",
    "id": "QCbD9KTfqXZ7"
   },
   "source": [
    "## Let's look at some examples"
   ]
  },
  {
   "cell_type": "code",
   "execution_count": 5,
   "metadata": {
    "colab": {
     "base_uri": "https://localhost:8080/",
     "height": 230
    },
    "colab_type": "code",
    "id": "A9x3mSb2lnQ7",
    "outputId": "dc3bf32a-4a03-4b19-9c80-54c92a90f76b"
   },
   "outputs": [],
   "source": [
    "from matplotlib import pyplot as plt\n",
    "\n",
    "def show_image(idx, dataset=dataset.train):\n",
    "    \"\"\"Takes training example index and plots the image.\"\"\"\n",
    "    \n",
    "    plt.imshow(dataset.images[idx].reshape(28, 28))\n",
    "    print('With label: ', label_names[dataset.labels[idx]])"
   ]
  },
  {
   "cell_type": "code",
   "execution_count": 6,
   "metadata": {
    "colab": {
     "base_uri": "https://localhost:8080/",
     "height": 162
    },
    "colab_type": "code",
    "id": "x2uN2zVjl8_Z",
    "outputId": "b13c0e0c-a6cb-4463-83d6-7dcea4f177d7"
   },
   "outputs": [
    {
     "name": "stdout",
     "output_type": "stream",
     "text": [
      "('With label: ', 'Bag')\n"
     ]
    },
    {
     "data": {
      "image/png": "[encoded data removed]",
      "text/plain": [
       "<Figure size 432x288 with 1 Axes>"
      ]
     },
     "metadata": {
      "needs_background": "light"
     },
     "output_type": "display_data"
    }
   ],
   "source": [
    "show_image(900)"
   ]
  },
  {
   "cell_type": "code",
   "execution_count": 7,
   "metadata": {
    "colab": {
     "base_uri": "https://localhost:8080/",
     "height": 162
    },
    "colab_type": "code",
    "id": "O0ROpXoUnSVo",
    "outputId": "4b128d4e-8187-47b5-da18-209b082879f8"
   },
   "outputs": [
    {
     "name": "stdout",
     "output_type": "stream",
     "text": [
      "('With label: ', 'Pullover')\n"
     ]
    },
    {
     "data": {
      "image/png": "[encoded data removed]",
      "text/plain": [
       "<Figure size 432x288 with 1 Axes>"
      ]
     },
     "metadata": {
      "needs_background": "light"
     },
     "output_type": "display_data"
    }
   ],
   "source": [
    "show_image(100)\n"
   ]
  },
  {
   "cell_type": "code",
   "execution_count": 8,
   "metadata": {
    "colab": {
     "base_uri": "https://localhost:8080/",
     "height": 364
    },
    "colab_type": "code",
    "id": "4vZs60UlnUOa",
    "outputId": "fe349624-707a-428f-b6ec-028ec24ea55f"
   },
   "outputs": [
    {
     "name": "stdout",
     "output_type": "stream",
     "text": [
      "('With label: ', 'Sneaker')\n"
     ]
    },
    {
     "data": {
      "image/png": "[encoded data removed]",
      "text/plain": [
       "<Figure size 432x288 with 1 Axes>"
      ]
     },
     "metadata": {
      "needs_background": "light"
     },
     "output_type": "display_data"
    }
   ],
   "source": [
    "show_image(4004)\n"
   ]
  },
  {
   "cell_type": "markdown",
   "metadata": {
    "colab_type": "text",
    "id": "oGhmw_s7rxFT"
   },
   "source": [
    "## Choose classifier\n",
    "In this section we will define what our *model_fn* is. This will provide us the interface to do training, evaluation, prediction and exporting. Tensorflow offers two options: **premade estimators** and **custom estimators**. The latter option allows you to define your custom model_fn that best suits your prediction task. To do this, you may find [Tensorflow's mid-level APIs](https://www.tensorflow.org/guide/custom_estimators) useful such as Layers, Datasets, and Metrics.\n",
    "\n",
    "Premade estimators give you the following default models: a **Deep Neural Network (DNN)** and a **Linear Classifier**. Each model_fn comes with their own hyperparameters. For the purpose of this walkthrough, we won't go into these, but feel free to dig deeper in your own time. Before moving on, can you answer the following questions?\n",
    "\n",
    "- How does this relate to model_fn we saw earlier?\n",
    "\n",
    "- What's the purpose of this?\n",
    "\n",
    "- What criteria would you use to choose the right model?"
   ]
  },
  {
   "cell_type": "code",
   "execution_count": 9,
   "metadata": {
    "colab": {},
    "colab_type": "code",
    "id": "psHs2d7kqvP0"
   },
   "outputs": [],
   "source": [
    "dnn_classifier = tf.estimator.DNNClassifier\n",
    "linear_classifier = tf.estimator.LinearClassifier"
   ]
  },
  {
   "cell_type": "code",
   "execution_count": 10,
   "metadata": {
    "colab": {},
    "colab_type": "code",
    "id": "_8D3pLgqqvR6"
   },
   "outputs": [],
   "source": [
    "classifier = linear_classifier"
   ]
  },
  {
   "cell_type": "markdown",
   "metadata": {
    "colab_type": "text",
    "id": "1XUIygakvSJ5"
   },
   "source": [
    "## Encode features\n",
    "In this step, we will first define our *feature_columns* and then we'll specify our input function that will feed these with our input data.\n",
    "\n",
    "### 1. Pick feature_columns\n",
    "Feature engineering is known to be one of the biggest and most time-consuming pain points in the modeling processing to people. The FeatureColumn API makes this process not only way easier, but also encodes the best practices to avoid unnecessary bugs during this process.\n",
    "\n",
    "The FeatureColumn API provides a simple interface to specify our feature representations. It is as simple as:\n",
    "- identify our feature types\n",
    "- find the best representation that suits the chosen model.\n",
    "\n",
    "In this case, the features are pixels. If you print an example image, you'll see we have a matrix of floats. We even know the dimension of this matrix is 28x28. This is sufficient information for us to know, we will need to choose *numeric_column* as our feature representation.\n",
    "\n",
    "[Check out their API](https://www.tensorflow.org/guide/feature_columns) to see what other preprocessors this API provides.\n"
   ]
  },
  {
   "cell_type": "code",
   "execution_count": 11,
   "metadata": {
    "colab": {},
    "colab_type": "code",
    "id": "sRkFoPYMMm9w"
   },
   "outputs": [],
   "source": [
    "feature_columns = [tf.feature_column.numeric_column(\"pixels\", shape=[28, 28])]"
   ]
  },
  {
   "cell_type": "markdown",
   "metadata": {
    "colab_type": "text",
    "id": "75cfZ8XrwoND"
   },
   "source": [
    "###  2. Prepare input function to feed data to estimator\n",
    "This step involves setting up your input data pipeline. Based on what we saw earlier, this function is required by both the train, evaluate, predict and export_savedmodel methods. The signiture of this function is the following:\n",
    "- () -> features, labels\n",
    "\n",
    "In our example, our data is stored in numpy arrays. This makes things easy because Tensorflow already has a built-in input function for numpy types: [tf.estimator.inputs.numpy_input_fn](https://www.tensorflow.org/versions/r1.4/get_started/input_fn).\n",
    "\n",
    "In general, Tensorflow's Datasets API is there to help you to specify your custom input pipeline. But for the purpose of this walkthrough, we won't go more in depth on this topic.\n",
    "\n",
    "To see some of the **parameters** this input function takes, refer to the below definitions:\n",
    "\n",
    "-  [Batch](https://developers.google.com/machine-learning/glossary/#b)\n",
    "\n",
    "    - The set of examples used in one iteration (that is, one gradient update) of model training.\n",
    "    \n",
    "\n",
    "- [Batch size](https://developers.google.com/machine-learning/glossary/#b)\n",
    "\n",
    "    - The number of examples in a batch. For example, the batch size of SGD is 1, while the batch size of a mini-batch is usually between 10 and 1000. Batch size is usually fixed during training and inference; however, TensorFlow does permit dynamic batch sizes.\n",
    "\n",
    "\n",
    "\n",
    "- [Epochs](https://developers.google.com/machine-learning/glossary/#e)\n",
    "\n",
    "    - A full training pass over the entire data set such that each example has been seen once. Thus, an epoch represents N/batch size training iterations, where N is the total number of examples.\n",
    "\n",
    "\n",
    "\n",
    "- [Steps](https://developers.google.com/machine-learning/glossary/#s)\n",
    "\n",
    "    - A forward and backward evaluation of one batch.\n",
    "\n",
    "\n",
    "\n",
    "\n",
    "\n"
   ]
  },
  {
   "cell_type": "code",
   "execution_count": 12,
   "metadata": {
    "colab": {},
    "colab_type": "code",
    "id": "MnfXV2JWr67t"
   },
   "outputs": [],
   "source": [
    "train_input_fn = tf.estimator.inputs.numpy_input_fn(\n",
    "    x={\"pixels\": dataset.train.images},\n",
    "    y=dataset.train.labels.astype(tf.int32.as_numpy_dtype),\n",
    "    num_epochs=None,\n",
    "    batch_size=50,\n",
    "    shuffle=True\n",
    ")"
   ]
  },
  {
   "cell_type": "markdown",
   "metadata": {
    "colab_type": "text",
    "id": "vn9VI-97sNFx"
   },
   "source": [
    "## Train classifier"
   ]
  },
  {
   "cell_type": "code",
   "execution_count": 13,
   "metadata": {
    "colab": {
     "base_uri": "https://localhost:8080/",
     "height": 71
    },
    "colab_type": "code",
    "id": "jm09dWkxndts",
    "outputId": "f28d3278-93e0-4128-e22b-67017df6e0b0"
   },
   "outputs": [
    {
     "name": "stdout",
     "output_type": "stream",
     "text": [
      "INFO:tensorflow:Using default config.\n",
      "INFO:tensorflow:Using config: {'_save_checkpoints_secs': 600, '_num_ps_replicas': 0, '_keep_checkpoint_max': 5, '_task_type': 'worker', '_global_id_in_cluster': 0, '_is_chief': True, '_cluster_spec': <tensorflow.python.training.server_lib.ClusterSpec object at 0x12e803ed0>, '_model_dir': './tmp/linear_fmnist_model_new', '_protocol': None, '_save_checkpoints_steps': None, '_keep_checkpoint_every_n_hours': 10000, '_service': None, '_session_config': allow_soft_placement: true\n",
      "graph_options {\n",
      "  rewrite_options {\n",
      "    meta_optimizer_iterations: ONE\n",
      "  }\n",
      "}\n",
      ", '_tf_random_seed': None, '_save_summary_steps': 100, '_device_fn': None, '_experimental_distribute': None, '_num_worker_replicas': 1, '_task_id': 0, '_log_step_count_steps': 100, '_evaluation_master': '', '_eval_distribute': None, '_train_distribute': None, '_master': ''}\n"
     ]
    }
   ],
   "source": [
    "classifier = tf.estimator.LinearClassifier(feature_columns=feature_columns,\n",
    "                                           n_classes=10,\n",
    "                                           model_dir=\"./tmp/linear_fmnist_model_new\",\n",
    ")"
   ]
  },
  {
   "cell_type": "code",
   "execution_count": 14,
   "metadata": {
    "colab": {
     "base_uri": "https://localhost:8080/",
     "height": 204
    },
    "colab_type": "code",
    "id": "ZT-UpYccM_NE",
    "outputId": "a1682150-2003-4b29-d962-173e39b4729c"
   },
   "outputs": [
    {
     "name": "stdout",
     "output_type": "stream",
     "text": [
      "WARNING:tensorflow:From /Users/Dora/Dora/learnings/learnings/lib/python2.7/site-packages/tensorflow/python/estimator/inputs/queues/feeding_queue_runner.py:62: __init__ (from tensorflow.python.training.queue_runner_impl) is deprecated and will be removed in a future version.\n",
      "Instructions for updating:\n",
      "To construct input pipelines, use the `tf.data` module.\n",
      "WARNING:tensorflow:From /Users/Dora/Dora/learnings/learnings/lib/python2.7/site-packages/tensorflow/python/estimator/inputs/queues/feeding_functions.py:500: add_queue_runner (from tensorflow.python.training.queue_runner_impl) is deprecated and will be removed in a future version.\n",
      "Instructions for updating:\n",
      "To construct input pipelines, use the `tf.data` module.\n",
      "INFO:tensorflow:Calling model_fn.\n",
      "INFO:tensorflow:Done calling model_fn.\n",
      "INFO:tensorflow:Create CheckpointSaverHook.\n",
      "INFO:tensorflow:Graph was finalized.\n",
      "INFO:tensorflow:Running local_init_op.\n",
      "INFO:tensorflow:Done running local_init_op.\n",
      "WARNING:tensorflow:From /Users/Dora/Dora/learnings/learnings/lib/python2.7/site-packages/tensorflow/python/training/monitored_session.py:804: start_queue_runners (from tensorflow.python.training.queue_runner_impl) is deprecated and will be removed in a future version.\n",
      "Instructions for updating:\n",
      "To construct input pipelines, use the `tf.data` module.\n",
      "INFO:tensorflow:Saving checkpoints for 0 into ./tmp/linear_fmnist_model_new/model.ckpt.\n",
      "INFO:tensorflow:loss = 115.129265, step = 1\n",
      "INFO:tensorflow:Saving checkpoints for 100 into ./tmp/linear_fmnist_model_new/model.ckpt.\n",
      "INFO:tensorflow:Loss for final step: 82.99433.\n"
     ]
    },
    {
     "data": {
      "text/plain": [
       "<tensorflow.python.estimator.canned.linear.LinearClassifier at 0x12e839f90>"
      ]
     },
     "execution_count": 14,
     "metadata": {},
     "output_type": "execute_result"
    }
   ],
   "source": [
    "classifier.train(input_fn=train_input_fn, steps=100)"
   ]
  },
  {
   "cell_type": "markdown",
   "metadata": {
    "colab_type": "text",
    "id": "EDJP2Bc7sjYe"
   },
   "source": [
    "## Evaluate classifier\n",
    "Now that we have a trained model, we would like to evaluate the performance of the trained model by running our classifyer on images that were not seen during training. For this, we will use the test dataset, and follow a similar setup process as for training. First, we will specify the `test_input_fn`, then we will call the `evaluate` method."
   ]
  },
  {
   "cell_type": "code",
   "execution_count": 15,
   "metadata": {
    "colab": {},
    "colab_type": "code",
    "id": "7yhSm1Ja0lRc"
   },
   "outputs": [],
   "source": [
    "test_input_fn = tf.estimator.inputs.numpy_input_fn(\n",
    " x={\"pixels\": dataset.test.images},\n",
    " y=dataset.test.labels.astype(tf.int32.as_numpy_dtype),\n",
    " num_epochs=1,\n",
    " shuffle=False\n",
    ")"
   ]
  },
  {
   "cell_type": "code",
   "execution_count": 16,
   "metadata": {
    "colab": {},
    "colab_type": "code",
    "id": "3v_GTp8HslIf"
   },
   "outputs": [
    {
     "name": "stdout",
     "output_type": "stream",
     "text": [
      "INFO:tensorflow:Calling model_fn.\n",
      "INFO:tensorflow:Done calling model_fn.\n",
      "INFO:tensorflow:Starting evaluation at 2018-11-22-17:53:38\n",
      "INFO:tensorflow:Graph was finalized.\n",
      "INFO:tensorflow:Restoring parameters from ./tmp/linear_fmnist_model_new/model.ckpt-100\n",
      "INFO:tensorflow:Running local_init_op.\n",
      "INFO:tensorflow:Done running local_init_op.\n",
      "INFO:tensorflow:Finished evaluation at 2018-11-22-17:53:39\n",
      "INFO:tensorflow:Saving dict for global step 100: accuracy = 0.6706, average_loss = 2.0839303, global_step = 100, loss = 263.78864\n",
      "INFO:tensorflow:Saving 'checkpoint_path' summary for global step 100: ./tmp/linear_fmnist_model_new/model.ckpt-100\n",
      "\n",
      "Test Accuracy: 67.060000%\n",
      "\n"
     ]
    }
   ],
   "source": [
    "metrics = classifier.evaluate(input_fn=test_input_fn)\n",
    "print(\"\\nTest Accuracy: {0:f}%\\n\".format(metrics[\"accuracy\"]*100))"
   ]
  },
  {
   "cell_type": "markdown",
   "metadata": {
    "colab_type": "text",
    "id": "C5c88Vp5ubCT"
   },
   "source": [
    "## Generate predictions\n",
    "Congratulations, you've trained a model with 78.65% accuracy! Even though we could most likely achieve higher accuracy than this, for the purpose of this walkthrough, we will move on to generating predictions.\n",
    "\n",
    "Once we evaluated our model, and have confidence that it is a model that's ready to be used to serve predictions, we can gather a few prediction instances to see what our prediction process would look like. Here we can just use a few example images from the training dataset to validate our output. In real life of course we wouldn't use training images as our prediction instances - there is no need to relabel what's already labeled. Instead, we would want to get predictions on the unlabelled (and not yet seen) images.\n",
    "\n",
    "Following the earlier signiture, we first set up a `predict_input_fn`, and then feed that into the classifier's `predict` method."
   ]
  },
  {
   "cell_type": "markdown",
   "metadata": {},
   "source": [
    "## Select random example to demonstrate prediction process"
   ]
  },
  {
   "cell_type": "code",
   "execution_count": 17,
   "metadata": {},
   "outputs": [
    {
     "name": "stdout",
     "output_type": "stream",
     "text": [
      "('With label: ', 'Sneaker')\n"
     ]
    },
    {
     "data": {
      "image/png": "[encoded data removed]",
      "text/plain": [
       "<Figure size 432x288 with 1 Axes>"
      ]
     },
     "metadata": {
      "needs_background": "light"
     },
     "output_type": "display_data"
    }
   ],
   "source": [
    "show_image(500)"
   ]
  },
  {
   "cell_type": "code",
   "execution_count": 18,
   "metadata": {
    "colab": {},
    "colab_type": "code",
    "id": "0MP07bQmulm4"
   },
   "outputs": [],
   "source": [
    "predict_input_fn = tf.estimator.inputs.numpy_input_fn(\n",
    " x={\"pixels\": dataset.train.images[500:501]},   ## Take image with index 500\n",
    "    shuffle=False\n",
    ")"
   ]
  },
  {
   "cell_type": "markdown",
   "metadata": {},
   "source": [
    "## We can now see the raw predictions\n",
    "Notice the schema of the output: you can verify for yourself that the outputted `class_ids`, and `classes` contain the index of the data point that has the highest probability. These `probabilities` correspond to our model's final classification layer's outputs."
   ]
  },
  {
   "cell_type": "code",
   "execution_count": 19,
   "metadata": {
    "colab": {},
    "colab_type": "code",
    "id": "Ohpcng4pnme4"
   },
   "outputs": [
    {
     "name": "stdout",
     "output_type": "stream",
     "text": [
      "INFO:tensorflow:Calling model_fn.\n",
      "INFO:tensorflow:Done calling model_fn.\n",
      "INFO:tensorflow:Graph was finalized.\n",
      "INFO:tensorflow:Restoring parameters from ./tmp/linear_fmnist_model_new/model.ckpt-100\n",
      "INFO:tensorflow:Running local_init_op.\n",
      "INFO:tensorflow:Done running local_init_op.\n"
     ]
    },
    {
     "data": {
      "text/plain": [
       "[{'class_ids': array([7]),\n",
       "  'classes': array(['7'], dtype=object),\n",
       "  'logits': array([ 6.2013183, -1.7537737,  8.533355 ,  9.157687 ,  7.5339594,\n",
       "         20.260542 ,  3.9681392, 28.720633 , 15.034301 , 13.395748 ],\n",
       "        dtype=float32),\n",
       "  'probabilities': array([1.6591810e-10, 5.8215768e-14, 1.7087705e-09, 3.1902729e-09,\n",
       "         6.2900291e-10, 2.1170778e-04, 1.7784284e-11, 9.9978703e-01,\n",
       "         1.1376512e-06, 2.2100126e-07], dtype=float32)}]"
      ]
     },
     "execution_count": 19,
     "metadata": {},
     "output_type": "execute_result"
    }
   ],
   "source": [
    "predictions = classifier.predict(predict_input_fn)\n",
    "[i for i in predictions]"
   ]
  },
  {
   "cell_type": "markdown",
   "metadata": {},
   "source": [
    "## With the outputted label index, we can confirm that the label corresponds to the above image."
   ]
  },
  {
   "cell_type": "code",
   "execution_count": 20,
   "metadata": {},
   "outputs": [
    {
     "name": "stdout",
     "output_type": "stream",
     "text": [
      "INFO:tensorflow:Calling model_fn.\n",
      "INFO:tensorflow:Done calling model_fn.\n",
      "INFO:tensorflow:Graph was finalized.\n",
      "INFO:tensorflow:Restoring parameters from ./tmp/linear_fmnist_model_new/model.ckpt-100\n",
      "INFO:tensorflow:Running local_init_op.\n",
      "INFO:tensorflow:Done running local_init_op.\n"
     ]
    },
    {
     "data": {
      "text/plain": [
       "['Sneaker']"
      ]
     },
     "execution_count": 20,
     "metadata": {},
     "output_type": "execute_result"
    }
   ],
   "source": [
    "predictions = classifier.predict(predict_input_fn)\n",
    "[label_names[i['class_ids'][0]] for i in predictions]"
   ]
  },
  {
   "cell_type": "markdown",
   "metadata": {
    "colab_type": "text",
    "id": "tYfScDIlsrhM"
   },
   "source": [
    "# Export the classifier as SavedModel object\n",
    "Once we are happy with our model's performance, it is ready to be exported to a specific location either on your local machine (for serving models locally) or to some cloud location (for cloud deployment) using the Estimators' *export_savedmodel* method. For this, please follow these steps:\n",
    "\n",
    "- Specify model path\n",
    "- Prepare `serving_input_fn` for export_savedmodel method."
   ]
  },
  {
   "cell_type": "code",
   "execution_count": 21,
   "metadata": {
    "colab": {},
    "colab_type": "code",
    "id": "9SftVHidtE_N"
   },
   "outputs": [],
   "source": [
    "serving_input_fn = tf.estimator.export.build_parsing_serving_input_receiver_fn(\n",
    "                              {\"pixels\": tf.FixedLenFeature([28, 28], tf.float32)})"
   ]
  },
  {
   "cell_type": "code",
   "execution_count": 23,
   "metadata": {
    "colab": {
     "base_uri": "https://localhost:8080/",
     "height": 226
    },
    "colab_type": "code",
    "id": "wkdJJZfKWOzS",
    "outputId": "50deca52-06db-4ca6-d5cf-0bc902c48765"
   },
   "outputs": [
    {
     "name": "stdout",
     "output_type": "stream",
     "text": [
      "INFO:tensorflow:Calling model_fn.\n",
      "INFO:tensorflow:Done calling model_fn.\n",
      "INFO:tensorflow:Signatures INCLUDED in export for Eval: None\n",
      "INFO:tensorflow:Signatures INCLUDED in export for Classify: ['serving_default', 'classification']\n",
      "INFO:tensorflow:Signatures INCLUDED in export for Regress: None\n",
      "INFO:tensorflow:Signatures INCLUDED in export for Predict: ['predict']\n",
      "INFO:tensorflow:Signatures INCLUDED in export for Train: None\n",
      "INFO:tensorflow:Restoring parameters from ./tmp/linear_fmnist_model_new/model.ckpt-100\n",
      "WARNING:tensorflow:From /Users/Dora/Dora/learnings/learnings/lib/python2.7/site-packages/tensorflow/python/estimator/estimator.py:1044: calling add_meta_graph_and_variables (from tensorflow.python.saved_model.builder_impl) with legacy_init_op is deprecated and will be removed in a future version.\n",
      "Instructions for updating:\n",
      "Pass your op to the equivalent parameter main_op instead.\n",
      "INFO:tensorflow:Assets added to graph.\n",
      "INFO:tensorflow:No assets to write.\n",
      "INFO:tensorflow:SavedModel written to: my_model/temp-1542909301/saved_model.pb\n"
     ]
    }
   ],
   "source": [
    "model_path = 'my_model/'\n",
    "model_location = classifier.export_savedmodel(model_path, serving_input_fn)  \n"
   ]
  },
  {
   "cell_type": "markdown",
   "metadata": {},
   "source": [
    "# Deployment and recap\n",
    "Congratulations, your exported model is now ready for deployment. You can now create a service from your model that takes requests and returns a result. You can run such a service both locally on your machine or deploy it in the cloud.\n",
    "\n",
    "The SavedModel format works well with [Tensorflow Serving](https://www.tensorflow.org/serving/), a flexible, high-performance system for serving machine learning models in production environments.\n",
    "\n",
    "Unfortunately, this tutorial won't go into details on how to deploy your models, but if you're interested in the topic, feel free to read up on Tensorflow Serving. If you are using Kubernetes, you might also find [Kubeflow](https://www.kubeflow.org/docs/about/kubeflow/) interesting, it's an open-source project dedicated to making deployments of machine learning (ML) workflows on Kubernetes simple, portable and scalable. \n",
    "\n",
    "To recap, we discussed a simple example on building an image classifier using Estimators. Estimators provided us with a flexible API to package up the training, evaluation, prediction and exporting process such that we didn't have to worry about the nitty-gritty details of how these steps are implemented.\n",
    "\n",
    "If you're keen to try your model \"in the wild\", I definitely suggest looking into the linked documentations and do the exercise of turning your model into a real service!"
   ]
  }
 ],
 "metadata": {
  "accelerator": "GPU",
  "colab": {
   "collapsed_sections": [],
   "name": "Tensorflow-101(public use).ipynb",
   "provenance": [],
   "version": "0.3.2"
  },
  "kernelspec": {
   "display_name": "Python 2",
   "language": "python",
   "name": "python2"
  },
  "language_info": {
   "codemirror_mode": {
    "name": "ipython",
    "version": 2
   },
   "file_extension": ".py",
   "mimetype": "text/x-python",
   "name": "python",
   "nbconvert_exporter": "python",
   "pygments_lexer": "ipython2",
   "version": "2.7.11"
  }
 },
 "nbformat": 4,
 "nbformat_minor": 1
}
